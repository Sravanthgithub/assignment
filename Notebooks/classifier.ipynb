{
 "cells": [
  {
   "cell_type": "code",
   "execution_count": 2,
   "metadata": {},
   "outputs": [],
   "source": [
    "#airline sentiment analysis\n",
    "\n",
    "import pandas as pd\n",
    "import numpy as np\n",
    "import matplotlib.pyplot as plt\n",
    "import seaborn as sns\n",
    "import re\n",
    "import warnings\n",
    "warnings.filterwarnings('ignore')\n",
    "\n",
    "from sklearn.feature_extraction.text import CountVectorizer\n",
    "from sklearn.model_selection import train_test_split\n",
    "from sklearn.metrics import accuracy_score, confusion_matrix, classification_report\n",
    "from sklearn.naive_bayes import MultinomialNB\n",
    "from sklearn.linear_model import LogisticRegression\n",
    "from sklearn.svm import SVC\n",
    "from sklearn.ensemble import RandomForestClassifier\n",
    "from sklearn.tree import DecisionTreeClassifier\n",
    "from sklearn.neighbors import KNeighborsClassifier\n",
    "from sklearn.model_selection import cross_val_score\n",
    "\n",
    "from nltk.corpus import stopwords\n",
    "from nltk.stem import WordNetLemmatizer\n",
    "from nltk.tokenize import word_tokenize"
   ]
  },
  {
   "cell_type": "code",
   "execution_count": 12,
   "metadata": {},
   "outputs": [],
   "source": [
    "#Using OOPs concept to train the model, reading data for training, and implement inference class\n",
    "\n",
    "class SentimentAnalysis:\n",
    "    def __init__(self):\n",
    "        self.data = pd.read_csv('airline_sentiment_analysis.csv')\n",
    "        self.data = self.data[['text', 'airline_sentiment']]\n",
    "        self.data['airline_sentiment'] = self.data['airline_sentiment'].replace(['negative','positive'], [0, 1])\n",
    "        self.data['text'] = self.data['text'].apply(self.clean_text)\n",
    "        self.X = self.data['text']\n",
    "        self.y = self.data['airline_sentiment']\n",
    "        self.X_train, self.X_test, self.y_train, self.y_test = train_test_split(self.X, self.y, test_size=0.2, random_state=42)\n",
    "        self.count_vectorizer = CountVectorizer()\n",
    "        self.X_train = self.count_vectorizer.fit_transform(self.X_train)\n",
    "        self.X_test = self.count_vectorizer.transform(self.X_test)\n",
    "        self.model = None\n",
    "        self.y_pred = None\n",
    "        self.accuracy = None\n",
    "        self.confusion_matrix = None\n",
    "        self.classification_report = None\n",
    "\n",
    "    def clean_text(self, text):\n",
    "        text = text.lower()\n",
    "        text = re.sub(r'@\\w+', '', text)\n",
    "        text = re.sub(r'#\\w+', '', text)\n",
    "        text = re.sub(r'https?:\\/\\/\\S+', '', text)\n",
    "        text = re.sub(r'[^a-zA-Z\\s]', '', text)\n",
    "        text = re.sub(r'\\s+', ' ', text)\n",
    "        text = text.strip()\n",
    "        return text\n",
    "\n",
    "    def train_model(self, model):\n",
    "        self.model = model\n",
    "        self.model.fit(self.X_train, self.y_train)\n",
    "        self.y_pred = self.model.predict(self.X_test)\n",
    "        self.accuracy = accuracy_score(self.y_test, self.y_pred)\n",
    "        self.confusion_matrix = confusion_matrix(self.y_test, self.y_pred)\n",
    "        self.classification_report = classification_report(self.y_test, self.y_pred)\n",
    "\n",
    "    def get_accuracy(self):\n",
    "        return self.accuracy\n",
    "\n",
    "    def get_confusion_matrix(self):\n",
    "        return self.confusion_matrix\n",
    "\n",
    "    def get_classification_report(self):\n",
    "        return self.classification_report\n",
    "\n",
    "    def predict(self, text):\n",
    "        text = self.clean_text(text)\n",
    "        text = self.count_vectorizer.transform([text])\n",
    "        return self.model.predict(text)\n",
    "    \n",
    "    def get_model(self):\n",
    "        return self.model\n",
    "    \n",
    "    def get_count_vectorizer(self):\n",
    "        return self.count_vectorizer\n",
    "\n",
    "    def train_model(self, model):\n",
    "        self.model = model\n",
    "        self.model.fit(self.X_train, self.y_train)\n",
    "        self.y_pred = self.model.predict(self.X_test)\n",
    "        self.accuracy = accuracy_score(self.y_test, self.y_pred)\n",
    "        self.confusion_matrix = confusion_matrix(self.y_test, self.y_pred)\n",
    "        self.classification_report = classification_report(self.y_test, self.y_pred)\n",
    "\n",
    "\n",
    "    "
   ]
  },
  {
   "cell_type": "code",
   "execution_count": 13,
   "metadata": {},
   "outputs": [
    {
     "name": "stdout",
     "output_type": "stream",
     "text": [
      "Naive Bayes\n",
      "Accuracy:  91.2949328713729\n",
      "Confusion Matrix:  [[1834   28]\n",
      " [ 173  274]]\n",
      "Classification Report:                precision    recall  f1-score   support\n",
      "\n",
      "           0       0.91      0.98      0.95      1862\n",
      "           1       0.91      0.61      0.73       447\n",
      "\n",
      "    accuracy                           0.91      2309\n",
      "   macro avg       0.91      0.80      0.84      2309\n",
      "weighted avg       0.91      0.91      0.91      2309\n",
      "\n"
     ]
    }
   ],
   "source": [
    "sentiment_classifier = SentimentAnalysis()\n",
    "\n",
    "#Training the model using different algorithms\n",
    "\n",
    "#Naive Bayes\n",
    "sentiment_classifier.train_model(MultinomialNB())\n",
    "print('Naive Bayes')\n",
    "print('Accuracy: ', sentiment_classifier.get_accuracy()*100)\n",
    "print('Confusion Matrix: ', sentiment_classifier.get_confusion_matrix())\n",
    "print('Classification Report: ', sentiment_classifier.get_classification_report())\n",
    "\n",
    "\n",
    "\n"
   ]
  },
  {
   "cell_type": "code",
   "execution_count": 14,
   "metadata": {},
   "outputs": [
    {
     "name": "stdout",
     "output_type": "stream",
     "text": [
      "Model:  LogisticRegression()\n",
      "Accuracy:  91.85794716327415\n",
      "Confusion Matrix:  [[1801   61]\n",
      " [ 127  320]]\n",
      "Classification Report:                precision    recall  f1-score   support\n",
      "\n",
      "           0       0.93      0.97      0.95      1862\n",
      "           1       0.84      0.72      0.77       447\n",
      "\n",
      "    accuracy                           0.92      2309\n",
      "   macro avg       0.89      0.84      0.86      2309\n",
      "weighted avg       0.92      0.92      0.92      2309\n",
      "\n",
      "Model:  SVC()\n",
      "Accuracy:  90.51537462104807\n",
      "Confusion Matrix:  [[1827   35]\n",
      " [ 184  263]]\n",
      "Classification Report:                precision    recall  f1-score   support\n",
      "\n",
      "           0       0.91      0.98      0.94      1862\n",
      "           1       0.88      0.59      0.71       447\n",
      "\n",
      "    accuracy                           0.91      2309\n",
      "   macro avg       0.90      0.78      0.82      2309\n",
      "weighted avg       0.90      0.91      0.90      2309\n",
      "\n",
      "Model:  RandomForestClassifier()\n",
      "Accuracy:  89.99566912083154\n",
      "Confusion Matrix:  [[1842   20]\n",
      " [ 211  236]]\n",
      "Classification Report:                precision    recall  f1-score   support\n",
      "\n",
      "           0       0.90      0.99      0.94      1862\n",
      "           1       0.92      0.53      0.67       447\n",
      "\n",
      "    accuracy                           0.90      2309\n",
      "   macro avg       0.91      0.76      0.81      2309\n",
      "weighted avg       0.90      0.90      0.89      2309\n",
      "\n",
      "Model:  DecisionTreeClassifier()\n",
      "Accuracy:  86.40103941100044\n",
      "Confusion Matrix:  [[1705  157]\n",
      " [ 157  290]]\n",
      "Classification Report:                precision    recall  f1-score   support\n",
      "\n",
      "           0       0.92      0.92      0.92      1862\n",
      "           1       0.65      0.65      0.65       447\n",
      "\n",
      "    accuracy                           0.86      2309\n",
      "   macro avg       0.78      0.78      0.78      2309\n",
      "weighted avg       0.86      0.86      0.86      2309\n",
      "\n",
      "Model:  KNeighborsClassifier()\n",
      "Accuracy:  71.50281507145951\n",
      "Confusion Matrix:  [[1286  576]\n",
      " [  82  365]]\n",
      "Classification Report:                precision    recall  f1-score   support\n",
      "\n",
      "           0       0.94      0.69      0.80      1862\n",
      "           1       0.39      0.82      0.53       447\n",
      "\n",
      "    accuracy                           0.72      2309\n",
      "   macro avg       0.66      0.75      0.66      2309\n",
      "weighted avg       0.83      0.72      0.74      2309\n",
      "\n"
     ]
    }
   ],
   "source": [
    "models = [LogisticRegression(), SVC(), RandomForestClassifier(), DecisionTreeClassifier(), KNeighborsClassifier()]\n",
    "for model in models:\n",
    "    sentiment_classifier.train_model(model)\n",
    "    print('Model: ', model)\n",
    "    print('Accuracy: ', sentiment_classifier.get_accuracy()*100)\n",
    "    print('Confusion Matrix: ', sentiment_classifier.get_confusion_matrix())\n",
    "    print('Classification Report: ', sentiment_classifier.get_classification_report())"
   ]
  },
  {
   "cell_type": "code",
   "execution_count": 15,
   "metadata": {},
   "outputs": [],
   "source": [
    "\n",
    "#save the models\n",
    "import pickle\n",
    "pickle.dump(sentiment_classifier.get_model(), open('model.pkl', 'wb'))\n",
    "pickle.dump(sentiment_classifier.get_count_vectorizer(), open('count_vectorizer.pkl', 'wb'))\n",
    "\n"
   ]
  },
  {
   "cell_type": "code",
   "execution_count": 16,
   "metadata": {},
   "outputs": [
    {
     "data": {
      "image/png": "[encoded data removed]",
      "text/plain": [
       "<Figure size 720x360 with 1 Axes>"
      ]
     },
     "metadata": {
      "needs_background": "light"
     },
     "output_type": "display_data"
    }
   ],
   "source": [
    "#Plotting accuracy of different models\n",
    "\n",
    "model_names = ['Naive Bayes', 'Logistic Regression', 'SVC', 'Random Forest', 'Decision Tree', 'KNN']\n",
    "model_accuracies = [sentiment_classifier.get_accuracy()*100]\n",
    "for model in models:\n",
    "    sentiment_classifier.train_model(model)\n",
    "    model_accuracies.append(sentiment_classifier.get_accuracy()*100)\n",
    "\n",
    "plt.figure(figsize=(10, 5))\n",
    "plt.bar(model_names, model_accuracies)\n",
    "plt.title('Model Accuracies')\n",
    "plt.xlabel('Models')\n",
    "plt.ylabel('Accuracy')\n",
    "plt.show()\n"
   ]
  },
  {
   "cell_type": "code",
   "execution_count": 17,
   "metadata": {},
   "outputs": [
    {
     "data": {
      "image/png": "[encoded data removed]",
      "text/plain": [
       "<Figure size 1080x720 with 12 Axes>"
      ]
     },
     "metadata": {
      "needs_background": "light"
     },
     "output_type": "display_data"
    }
   ],
   "source": [
    "#Plotting confusion matrix of different models\n",
    "model_confusion_matrices = [sentiment_classifier.get_confusion_matrix()]\n",
    "for model in models:\n",
    "    sentiment_classifier.train_model(model)\n",
    "    model_confusion_matrices.append(sentiment_classifier.get_confusion_matrix())\n",
    "\n",
    "fig, axes = plt.subplots(2, 3, figsize=(15, 10))\n",
    "axes = axes.flatten()\n",
    "for i, cm in enumerate(model_confusion_matrices):\n",
    "    axes[i].set_title(model_names[i])\n",
    "    sns.heatmap(cm, annot=True, ax=axes[i], fmt='d')\n",
    "\n",
    "plt.tight_layout()\n",
    "plt.show()\n"
   ]
  },
  {
   "cell_type": "code",
   "execution_count": 28,
   "metadata": {},
   "outputs": [
    {
     "name": "stdout",
     "output_type": "stream",
     "text": [
      "Fitting 5 folds for each of 10 candidates, totalling 50 fits\n",
      "Best Parameters:  {'C': 1, 'penalty': 'l2'}\n",
      "Best Score:  0.9180017257348597\n",
      "Best Estimator:  LogisticRegression(C=1)\n",
      "Accuracy:  91.85794716327415\n",
      "Confusion Matrix:  [[1801   61]\n",
      " [ 127  320]]\n",
      "Classification Report:                precision    recall  f1-score   support\n",
      "\n",
      "           0       0.93      0.97      0.95      1862\n",
      "           1       0.84      0.72      0.77       447\n",
      "\n",
      "    accuracy                           0.92      2309\n",
      "   macro avg       0.89      0.84      0.86      2309\n",
      "weighted avg       0.92      0.92      0.92      2309\n",
      "\n"
     ]
    }
   ],
   "source": [
    "#grid search for hyperparameter tuning\n",
    "\n",
    "#importing libraries\n",
    "from sklearn.model_selection import GridSearchCV\n",
    "\n",
    "#Logistic Regression\n",
    "parameters = {'C': [0.1, 1, 10, 100, 1000], 'penalty': ['l1', 'l2']}\n",
    "grid_search = GridSearchCV(LogisticRegression(), parameters, cv=5, n_jobs=-1, verbose=1)\n",
    "grid_search.fit(sentiment_classifier.X_train, sentiment_classifier.y_train)\n",
    "print('Best Parameters: ', grid_search.best_params_)\n",
    "print('Best Score: ', grid_search.best_score_)\n",
    "print('Best Estimator: ', grid_search.best_estimator_)\n",
    "best_model = grid_search.best_estimator_\n",
    "sentiment_classifier.train_model(best_model)\n",
    "print('Accuracy: ', sentiment_classifier.get_accuracy()*100)\n",
    "print('Confusion Matrix: ', sentiment_classifier.get_confusion_matrix())\n",
    "print('Classification Report: ', sentiment_classifier.get_classification_report())\n"
   ]
  },
  {
   "cell_type": "code",
   "execution_count": 19,
   "metadata": {},
   "outputs": [
    {
     "name": "stdout",
     "output_type": "stream",
     "text": [
      "Fitting 5 folds for each of 10 candidates, totalling 50 fits\n",
      "Best Parameters:  {'C': 0.1, 'kernel': 'linear'}\n",
      "Best Score:  0.9157271813798957\n",
      "Best Estimator:  SVC(C=0.1, kernel='linear')\n",
      "Accuracy:  91.38155045474231\n",
      "Confusion Matrix:  [[1808   54]\n",
      " [ 145  302]]\n",
      "Classification Report:                precision    recall  f1-score   support\n",
      "\n",
      "           0       0.93      0.97      0.95      1862\n",
      "           1       0.85      0.68      0.75       447\n",
      "\n",
      "    accuracy                           0.91      2309\n",
      "   macro avg       0.89      0.82      0.85      2309\n",
      "weighted avg       0.91      0.91      0.91      2309\n",
      "\n"
     ]
    }
   ],
   "source": [
    "\n",
    "#SVC\n",
    "parameters = {'C': [0.1, 1, 10, 100, 1000], 'kernel': ['linear', 'rbf']}\n",
    "grid_search = GridSearchCV(SVC(), parameters, cv=5, n_jobs=-1, verbose=1)\n",
    "grid_search.fit(sentiment_classifier.X_train, sentiment_classifier.y_train)\n",
    "print('Best Parameters: ', grid_search.best_params_)\n",
    "print('Best Score: ', grid_search.best_score_)\n",
    "print('Best Estimator: ', grid_search.best_estimator_)\n",
    "best_model = grid_search.best_estimator_\n",
    "sentiment_classifier.train_model(best_model)\n",
    "print('Accuracy: ', sentiment_classifier.get_accuracy()*100)\n",
    "print('Confusion Matrix: ', sentiment_classifier.get_confusion_matrix())\n",
    "print('Classification Report: ', sentiment_classifier.get_classification_report())\n"
   ]
  },
  {
   "cell_type": "code",
   "execution_count": 20,
   "metadata": {},
   "outputs": [
    {
     "name": "stdout",
     "output_type": "stream",
     "text": [
      "Fitting 5 folds for each of 5 candidates, totalling 25 fits\n",
      "Best Parameters:  {'alpha': 0.1}\n",
      "Best Score:  0.9002368632686544\n",
      "Best Estimator:  MultinomialNB(alpha=0.1)\n",
      "Accuracy:  90.68860978778692\n",
      "Confusion Matrix:  [[1787   75]\n",
      " [ 140  307]]\n",
      "Classification Report:                precision    recall  f1-score   support\n",
      "\n",
      "           0       0.93      0.96      0.94      1862\n",
      "           1       0.80      0.69      0.74       447\n",
      "\n",
      "    accuracy                           0.91      2309\n",
      "   macro avg       0.87      0.82      0.84      2309\n",
      "weighted avg       0.90      0.91      0.90      2309\n",
      "\n"
     ]
    }
   ],
   "source": [
    "#Naive Bayes\n",
    "parameters = {'alpha': [0.1, 1, 10, 100, 1000]}\n",
    "grid_search = GridSearchCV(MultinomialNB(), parameters, cv=5, n_jobs=-1, verbose=1)\n",
    "grid_search.fit(sentiment_classifier.X_train, sentiment_classifier.y_train)\n",
    "print('Best Parameters: ', grid_search.best_params_)\n",
    "print('Best Score: ', grid_search.best_score_)\n",
    "print('Best Estimator: ', grid_search.best_estimator_)\n",
    "best_model = grid_search.best_estimator_\n",
    "sentiment_classifier.train_model(best_model)\n",
    "print('Accuracy: ', sentiment_classifier.get_accuracy()*100)\n",
    "print('Confusion Matrix: ', sentiment_classifier.get_confusion_matrix())\n",
    "print('Classification Report: ', sentiment_classifier.get_classification_report())\n",
    "\n"
   ]
  },
  {
   "cell_type": "code",
   "execution_count": 22,
   "metadata": {},
   "outputs": [
    {
     "name": "stdout",
     "output_type": "stream",
     "text": [
      "Fitting 5 folds for each of 10 candidates, totalling 50 fits\n",
      "Best Parameters:  {'criterion': 'gini', 'n_estimators': 300}\n",
      "Best Score:  0.8915721726133737\n",
      "Best Estimator:  RandomForestClassifier(n_estimators=300)\n",
      "Accuracy:  89.95236032914681\n",
      "Confusion Matrix:  [[1842   20]\n",
      " [ 212  235]]\n",
      "Classification Report:                precision    recall  f1-score   support\n",
      "\n",
      "           0       0.90      0.99      0.94      1862\n",
      "           1       0.92      0.53      0.67       447\n",
      "\n",
      "    accuracy                           0.90      2309\n",
      "   macro avg       0.91      0.76      0.81      2309\n",
      "weighted avg       0.90      0.90      0.89      2309\n",
      "\n"
     ]
    }
   ],
   "source": [
    "#Random Forest\n",
    "parameters = {'n_estimators': [100, 200, 300, 400, 500], 'criterion': ['gini', 'entropy']}\n",
    "grid_search = GridSearchCV(RandomForestClassifier(), parameters, cv=5, n_jobs=-1, verbose=1)\n",
    "grid_search.fit(sentiment_classifier.X_train, sentiment_classifier.y_train)\n",
    "print('Best Parameters: ', grid_search.best_params_)\n",
    "print('Best Score: ', grid_search.best_score_)\n",
    "print('Best Estimator: ', grid_search.best_estimator_)\n",
    "best_model = grid_search.best_estimator_\n",
    "sentiment_classifier.train_model(best_model)\n",
    "print('Accuracy: ', sentiment_classifier.get_accuracy()*100)\n",
    "print('Confusion Matrix: ', sentiment_classifier.get_confusion_matrix())\n",
    "print('Classification Report: ', sentiment_classifier.get_classification_report())\n"
   ]
  },
  {
   "cell_type": "code",
   "execution_count": 23,
   "metadata": {},
   "outputs": [
    {
     "name": "stdout",
     "output_type": "stream",
     "text": [
      "Fitting 5 folds for each of 4 candidates, totalling 20 fits\n",
      "Best Parameters:  {'criterion': 'gini', 'splitter': 'best'}\n",
      "Best Score:  0.8659004880978849\n",
      "Best Estimator:  DecisionTreeClassifier()\n",
      "Accuracy:  86.74750974447812\n",
      "Confusion Matrix:  [[1710  152]\n",
      " [ 154  293]]\n",
      "Classification Report:                precision    recall  f1-score   support\n",
      "\n",
      "           0       0.92      0.92      0.92      1862\n",
      "           1       0.66      0.66      0.66       447\n",
      "\n",
      "    accuracy                           0.87      2309\n",
      "   macro avg       0.79      0.79      0.79      2309\n",
      "weighted avg       0.87      0.87      0.87      2309\n",
      "\n"
     ]
    }
   ],
   "source": [
    "#decision tree\n",
    "parameters = {'criterion': ['gini', 'entropy'], 'splitter': ['best', 'random']}\n",
    "grid_search = GridSearchCV(DecisionTreeClassifier(), parameters, cv=5, n_jobs=-1, verbose=1)\n",
    "grid_search.fit(sentiment_classifier.X_train, sentiment_classifier.y_train)\n",
    "print('Best Parameters: ', grid_search.best_params_)\n",
    "print('Best Score: ', grid_search.best_score_)\n",
    "print('Best Estimator: ', grid_search.best_estimator_)\n",
    "best_model = grid_search.best_estimator_\n",
    "sentiment_classifier.train_model(best_model)\n",
    "print('Accuracy: ', sentiment_classifier.get_accuracy()*100)\n",
    "print('Confusion Matrix: ', sentiment_classifier.get_confusion_matrix())\n",
    "print('Classification Report: ', sentiment_classifier.get_classification_report())"
   ]
  },
  {
   "cell_type": "code",
   "execution_count": 24,
   "metadata": {},
   "outputs": [
    {
     "name": "stdout",
     "output_type": "stream",
     "text": [
      "Fitting 5 folds for each of 20 candidates, totalling 100 fits\n",
      "Best Parameters:  {'n_neighbors': 5, 'weights': 'distance'}\n",
      "Best Score:  0.7006039485423641\n",
      "Best Estimator:  KNeighborsClassifier(weights='distance')\n",
      "Accuracy:  71.71935902988307\n",
      "Confusion Matrix:  [[1291  571]\n",
      " [  82  365]]\n",
      "Classification Report:                precision    recall  f1-score   support\n",
      "\n",
      "           0       0.94      0.69      0.80      1862\n",
      "           1       0.39      0.82      0.53       447\n",
      "\n",
      "    accuracy                           0.72      2309\n",
      "   macro avg       0.67      0.75      0.66      2309\n",
      "weighted avg       0.83      0.72      0.75      2309\n",
      "\n"
     ]
    }
   ],
   "source": [
    "#KNN\n",
    "parameters = {'n_neighbors': [3, 5, 7, 9, 11, 13, 15, 17, 19, 21], 'weights': ['uniform', 'distance']}\n",
    "grid_search = GridSearchCV(KNeighborsClassifier(), parameters, cv=5, n_jobs=-1, verbose=1)\n",
    "grid_search.fit(sentiment_classifier.X_train, sentiment_classifier.y_train)\n",
    "print('Best Parameters: ', grid_search.best_params_)\n",
    "print('Best Score: ', grid_search.best_score_)\n",
    "print('Best Estimator: ', grid_search.best_estimator_)\n",
    "best_model = grid_search.best_estimator_\n",
    "sentiment_classifier.train_model(best_model)\n",
    "print('Accuracy: ', sentiment_classifier.get_accuracy()*100)\n",
    "print('Confusion Matrix: ', sentiment_classifier.get_confusion_matrix())\n",
    "print('Classification Report: ', sentiment_classifier.get_classification_report())\n"
   ]
  },
  {
   "attachments": {},
   "cell_type": "markdown",
   "metadata": {},
   "source": [
    "The best model is Logistic Regression"
   ]
  },
  {
   "cell_type": "code",
   "execution_count": 29,
   "metadata": {},
   "outputs": [
    {
     "data": {
      "text/plain": [
       "LogisticRegression(C=1)"
      ]
     },
     "execution_count": 29,
     "metadata": {},
     "output_type": "execute_result"
    }
   ],
   "source": [
    "best_model"
   ]
  },
  {
   "cell_type": "code",
   "execution_count": 30,
   "metadata": {},
   "outputs": [],
   "source": [
    "#saving the model\n",
    "import pickle\n",
    "pickle.dump(best_model, open('sentiment_classifier.pkl', 'wb'))"
   ]
  },
  {
   "cell_type": "code",
   "execution_count": 31,
   "metadata": {},
   "outputs": [
    {
     "name": "stdout",
     "output_type": "stream",
     "text": [
      "[0 1 0 ... 0 0 0]\n"
     ]
    }
   ],
   "source": [
    "#loading the model\n",
    "model = pickle.load(open('sentiment_classifier.pkl', 'rb'))\n",
    "\n",
    "#testing the model\n",
    "print(model.predict(sentiment_classifier.X_test))\n"
   ]
  },
  {
   "cell_type": "code",
   "execution_count": 40,
   "metadata": {},
   "outputs": [],
   "source": [
    "#saving the vectorizer\n",
    "pickle.dump(sentiment_classifier.count_vectorizer, open('vectorizer.pkl', 'wb'))\n"
   ]
  },
  {
   "cell_type": "code",
   "execution_count": 4,
   "metadata": {},
   "outputs": [],
   "source": [
    "\n",
    "#loading the vectorizer\n",
    "import pickle\n",
    "vectorizer = pickle.load(open('vectorizer.pkl', 'rb'))\n",
    "model = pickle.load(open('sentiment_classifier.pkl', 'rb'))"
   ]
  },
  {
   "cell_type": "code",
   "execution_count": 43,
   "metadata": {},
   "outputs": [
    {
     "name": "stdout",
     "output_type": "stream",
     "text": [
      "[1]\n"
     ]
    }
   ],
   "source": [
    "#testing the model with new data\n",
    "new_review = ['I love this flight']\n",
    "new_review = vectorizer.transform(new_review)\n",
    "print(model.predict(new_review))\n"
   ]
  },
  {
   "cell_type": "code",
   "execution_count": 46,
   "metadata": {},
   "outputs": [
    {
     "name": "stdout",
     "output_type": "stream",
     "text": [
      "Positive\n",
      "Negative\n"
     ]
    }
   ],
   "source": [
    "def get_sentiment(review):\n",
    "    new_review = [review]\n",
    "    new_review = vectorizer.transform(new_review)\n",
    "    pred = model.predict(new_review)\n",
    "    if pred == 1:\n",
    "        return 'Positive'\n",
    "    else:\n",
    "        return 'Negative'\n",
    "\n",
    "print(get_sentiment('I love this flight❤️'))\n",
    "print(get_sentiment('I hate this flight😡'))"
   ]
  },
  {
   "cell_type": "code",
   "execution_count": 5,
   "metadata": {},
   "outputs": [
    {
     "name": "stdout",
     "output_type": "stream",
     "text": [
      "Positive\n",
      "Negative\n"
     ]
    }
   ],
   "source": [
    "class Inference:\n",
    "    def __init__(self, model, vectorizer):\n",
    "        self.model = model\n",
    "        self.vectorizer = vectorizer\n",
    "\n",
    "    def get_sentiment(self, review):\n",
    "        new_review = [review]\n",
    "        new_review = self.vectorizer.transform(new_review)\n",
    "        pred = self.model.predict(new_review)\n",
    "        if pred == 1:\n",
    "            return 'Positive'\n",
    "        else:\n",
    "            return 'Negative'\n",
    "\n",
    "inference = Inference(model, vectorizer)\n",
    "print(inference.get_sentiment('I love this flight❤️'))\n",
    "print(inference.get_sentiment('I hate this flight😡'))"
   ]
  },
  {
   "cell_type": "code",
   "execution_count": null,
   "metadata": {},
   "outputs": [],
   "source": []
  }
 ],
 "metadata": {
  "kernelspec": {
   "display_name": "Python 3",
   "language": "python",
   "name": "python3"
  },
  "language_info": {
   "codemirror_mode": {
    "name": "ipython",
    "version": 3
   },
   "file_extension": ".py",
   "mimetype": "text/x-python",
   "name": "python",
   "nbconvert_exporter": "python",
   "pygments_lexer": "ipython3",
   "version": "3.9.2 (tags/v3.9.2:1a79785, Feb 19 2021, 13:44:55) [MSC v.1928 64 bit (AMD64)]"
  },
  "orig_nbformat": 4,
  "vscode": {
   "interpreter": {
    "hash": "6d8cedc31edbc51b1d3f879b34330473188cdafcd1be4d46b81da5452b04a4b6"
   }
  }
 },
 "nbformat": 4,
 "nbformat_minor": 2
}
