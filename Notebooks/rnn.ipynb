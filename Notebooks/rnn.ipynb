{
 "cells": [
  {
   "cell_type": "code",
   "execution_count": 10,
   "metadata": {},
   "outputs": [],
   "source": [
    "#Airline sentiment analysis with LSTM, with tensorflow and keras\n",
    "\n",
    "\n",
    "import numpy as np\n",
    "import pandas as pd\n",
    "import matplotlib.pyplot as plt\n",
    "import seaborn as sns\n",
    "import re\n",
    "import tensorflow as tf\n",
    "from tensorflow import keras\n",
    "from tensorflow.keras import layers\n",
    "from tensorflow.keras.preprocessing.text import Tokenizer\n",
    "from tensorflow.keras.preprocessing.sequence import pad_sequences\n",
    "from sklearn.model_selection import train_test_split\n",
    "from sklearn.metrics import confusion_matrix, classification_report\n"
   ]
  },
  {
   "cell_type": "code",
   "execution_count": 17,
   "metadata": {},
   "outputs": [],
   "source": [
    "#Use OOPs concept to train the model, reading data for training, and implement inference class\n",
    "class SentimentAnalysis: \n",
    "    def __init__(self, data_path):\n",
    "        self.data_path = data_path\n",
    "        self.data = pd.read_csv(data_path)\n",
    "        self.data = self.data.dropna()\n",
    "        self.data['text'] = self.data['text'].apply(lambda x: x.lower())\n",
    "        self.data['text'] = self.data['text'].apply((lambda x: re.sub('[^a-zA-z0-9\\s]','',x)))\n",
    "        self.max_features = 2000\n",
    "        self.tokenizer = Tokenizer(num_words=self.max_features, split=' ')\n",
    "        self.tokenizer.fit_on_texts(self.data['text'].values)\n",
    "        self.X = self.tokenizer.texts_to_sequences(self.data['text'].values)\n",
    "        self.X = pad_sequences(self.X)\n",
    "        self.embed_dim = 128\n",
    "        self.lstm_out = 196\n",
    "\n",
    "        self.model = keras.Sequential([\n",
    "            layers.Embedding(self.max_features, self.embed_dim,input_length = self.X.shape[1]),\n",
    "            layers.SpatialDropout1D(0.4),\n",
    "            layers.LSTM(self.lstm_out, dropout=0.2, recurrent_dropout=0.2),\n",
    "            layers.Dense(2,activation='sigmoid')\n",
    "        ])\n",
    "\n",
    "        self.model.compile(loss = 'categorical_crossentropy', \n",
    "                            optimizer='adam',\n",
    "                            metrics = ['accuracy'])\n",
    "                            \n",
    "        print(self.model.summary())\n",
    "\n",
    "    def train(self):\n",
    "        Y = pd.get_dummies(self.data['airline_sentiment']).values\n",
    "        X_train, X_test, Y_train, Y_test = train_test_split(self.X,Y, test_size = 0.2, random_state = 42)\n",
    "        batch_size = 32\n",
    "        self.model.fit(X_train, Y_train, epochs = 7, batch_size=batch_size, verbose = 2)\n",
    "        score,acc = self.model.evaluate(X_test,Y_test,verbose=2,batch_size=batch_size)\n",
    "        print(score)\n",
    "        print(acc)\n",
    "        print(self.model.metrics_names)\n",
    "        Y_pred = self.model.predict(X_test)\n",
    "        y_pred = np.argmax(Y_pred, axis=1)\n",
    "        print(confusion_matrix(np.argmax(Y_test,axis=1), y_pred))\n",
    "        print(classification_report(np.argmax(Y_test,axis=1), y_pred))\n",
    "\n"
   ]
  },
  {
   "cell_type": "code",
   "execution_count": 18,
   "metadata": {},
   "outputs": [
    {
     "name": "stdout",
     "output_type": "stream",
     "text": [
      "Model: \"sequential_4\"\n",
      "_________________________________________________________________\n",
      " Layer (type)                Output Shape              Param #   \n",
      "=================================================================\n",
      " embedding_4 (Embedding)     (None, 32, 128)           256000    \n",
      "                                                                 \n",
      " spatial_dropout1d_3 (Spatia  (None, 32, 128)          0         \n",
      " lDropout1D)                                                     \n",
      "                                                                 \n",
      " lstm_4 (LSTM)               (None, 196)               254800    \n",
      "                                                                 \n",
      " dense_5 (Dense)             (None, 2)                 394       \n",
      "                                                                 \n",
      "=================================================================\n",
      "Total params: 511,194\n",
      "Trainable params: 511,194\n",
      "Non-trainable params: 0\n",
      "_________________________________________________________________\n",
      "None\n",
      "Epoch 1/7\n",
      "289/289 - 48s - loss: 0.3182 - accuracy: 0.8683 - 48s/epoch - 167ms/step\n",
      "Epoch 2/7\n",
      "289/289 - 39s - loss: 0.1765 - accuracy: 0.9323 - 39s/epoch - 134ms/step\n",
      "Epoch 3/7\n",
      "289/289 - 39s - loss: 0.1380 - accuracy: 0.9471 - 39s/epoch - 134ms/step\n",
      "Epoch 4/7\n",
      "289/289 - 38s - loss: 0.1197 - accuracy: 0.9540 - 38s/epoch - 133ms/step\n",
      "Epoch 5/7\n",
      "289/289 - 63s - loss: 0.1006 - accuracy: 0.9599 - 63s/epoch - 219ms/step\n",
      "Epoch 6/7\n",
      "289/289 - 44s - loss: 0.0862 - accuracy: 0.9677 - 44s/epoch - 151ms/step\n",
      "Epoch 7/7\n",
      "289/289 - 43s - loss: 0.0705 - accuracy: 0.9749 - 43s/epoch - 147ms/step\n",
      "73/73 - 3s - loss: 0.3104 - accuracy: 0.9099 - 3s/epoch - 39ms/step\n",
      "0.3104344606399536\n",
      "0.9099177122116089\n",
      "['loss', 'accuracy']\n",
      "[[1739  123]\n",
      " [  85  362]]\n",
      "              precision    recall  f1-score   support\n",
      "\n",
      "           0       0.95      0.93      0.94      1862\n",
      "           1       0.75      0.81      0.78       447\n",
      "\n",
      "    accuracy                           0.91      2309\n",
      "   macro avg       0.85      0.87      0.86      2309\n",
      "weighted avg       0.91      0.91      0.91      2309\n",
      "\n"
     ]
    }
   ],
   "source": [
    "path = 'airline_sentiment_analysis.csv'\n",
    "sentiment_analysis = SentimentAnalysis(path)\n",
    "sentiment_analysis.train()\n",
    "\n"
   ]
  },
  {
   "cell_type": "code",
   "execution_count": 23,
   "metadata": {},
   "outputs": [],
   "source": [
    "#Inference class\n",
    "class Inference:\n",
    "    def __init__(self, model, tokenizer):\n",
    "        self.model = model\n",
    "        self.tokenizer = tokenizer\n",
    "\n",
    "    def predict(self, text):\n",
    "        text = text.lower()\n",
    "        text = re.sub('[^a-zA-z0-9\\s]','',text)\n",
    "        text = self.tokenizer.texts_to_sequences([text])\n",
    "        text = pad_sequences(text, maxlen=32)\n",
    "        sentiment = self.model.predict(text, batch_size=1, verbose=2)[0]\n",
    "        if(np.argmax(sentiment) == 0):\n",
    "            print(\"negative\")\n",
    "        elif (np.argmax(sentiment) == 1):\n",
    "            print(\"positive\")"
   ]
  },
  {
   "cell_type": "code",
   "execution_count": 26,
   "metadata": {},
   "outputs": [
    {
     "name": "stdout",
     "output_type": "stream",
     "text": [
      "1/1 - 0s - 51ms/epoch - 51ms/step\n",
      "positive\n",
      "1/1 - 0s - 38ms/epoch - 38ms/step\n",
      "positive\n",
      "1/1 - 0s - 36ms/epoch - 36ms/step\n",
      "negative\n"
     ]
    }
   ],
   "source": [
    "\n",
    "inference = Inference(sentiment_analysis.model, sentiment_analysis.tokenizer)\n",
    "inference.predict(\"This airline is super awesome!\")\n",
    "inference.predict(\"This airline is very interesting!\")\n",
    "inference.predict(\"This airline is very bad!\")\n"
   ]
  },
  {
   "cell_type": "code",
   "execution_count": 28,
   "metadata": {},
   "outputs": [
    {
     "name": "stdout",
     "output_type": "stream",
     "text": [
      "1/1 - 1s - 603ms/epoch - 603ms/step\n",
      "positive\n",
      "1/1 - 0s - 90ms/epoch - 90ms/step\n",
      "positive\n",
      "1/1 - 0s - 100ms/epoch - 100ms/step\n",
      "negative\n"
     ]
    }
   ],
   "source": [
    "#save the model\n",
    "sentiment_analysis.model.save('sentiment_analysis.h5')\n",
    "\n",
    "#load the model\n",
    "model = keras.models.load_model('sentiment_analysis.h5')\n",
    "\n",
    "#inference\n",
    "inference = Inference(model, sentiment_analysis.tokenizer)\n",
    "inference.predict(\"This airline is super awesome!\")\n",
    "inference.predict(\"This airline is very interesting!\")\n",
    "inference.predict(\"This airline is very bad!\")"
   ]
  },
  {
   "attachments": {},
   "cell_type": "markdown",
   "metadata": {},
   "source": [
    "The Accuracy of the model is:  0.967"
   ]
  },
  {
   "cell_type": "markdown",
   "metadata": {},
   "source": []
  }
 ],
 "metadata": {
  "kernelspec": {
   "display_name": "Python 3",
   "language": "python",
   "name": "python3"
  },
  "language_info": {
   "codemirror_mode": {
    "name": "ipython",
    "version": 3
   },
   "file_extension": ".py",
   "mimetype": "text/x-python",
   "name": "python",
   "nbconvert_exporter": "python",
   "pygments_lexer": "ipython3",
   "version": "3.9.2 (tags/v3.9.2:1a79785, Feb 19 2021, 13:44:55) [MSC v.1928 64 bit (AMD64)]"
  },
  "orig_nbformat": 4,
  "vscode": {
   "interpreter": {
    "hash": "6d8cedc31edbc51b1d3f879b34330473188cdafcd1be4d46b81da5452b04a4b6"
   }
  }
 },
 "nbformat": 4,
 "nbformat_minor": 2
}
